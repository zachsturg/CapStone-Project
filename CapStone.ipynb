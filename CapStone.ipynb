{
  "nbformat": 4,
  "nbformat_minor": 0,
  "metadata": {
    "colab": {
      "name": "CapStone.ipynb",
      "provenance": [],
      "collapsed_sections": []
    },
    "kernelspec": {
      "name": "python3",
      "display_name": "Python 3"
    },
    "accelerator": "GPU"
  },
  "cells": [
    {
      "cell_type": "code",
      "metadata": {
        "id": "eZ7KgKgr-Gm4",
        "colab_type": "code",
        "colab": {}
      },
      "source": [
        "import torch\n",
        "import torchvision\n",
        "import numpy as np\n",
        "import time\n",
        "import torchvision.transforms as transforms\n",
        "from torchvision import datasets\n",
        "import torch.nn as nn\n",
        "import torch.nn.functional as F\n",
        "from torch.utils.data.sampler import SubsetRandomSampler\n",
        "import os\n",
        "import matplotlib.pyplot as plt\n",
        "from sklearn.metrics import confusion_matrix\n",
        "from sklearn.metrics import classification_report\n",
        "from PIL import ImageFile\n",
        "ImageFile.LOAD_TRUNCATED_IMAGES = True"
      ],
      "execution_count": 0,
      "outputs": []
    },
    {
      "cell_type": "code",
      "metadata": {
        "id": "gs9WPAaVb3Mq",
        "colab_type": "code",
        "outputId": "4408aac6-25e2-421d-9381-52e41539247f",
        "colab": {
          "base_uri": "https://localhost:8080/",
          "height": 34
        }
      },
      "source": [
        "from google.colab import drive\n",
        "drive.mount('/content/drive')"
      ],
      "execution_count": 0,
      "outputs": [
        {
          "output_type": "stream",
          "text": [
            "Drive already mounted at /content/drive; to attempt to forcibly remount, call drive.mount(\"/content/drive\", force_remount=True).\n"
          ],
          "name": "stdout"
        }
      ]
    },
    {
      "cell_type": "markdown",
      "metadata": {
        "id": "wj9ZTm6cKZzr",
        "colab_type": "text"
      },
      "source": [
        "# Load 128x128 Data"
      ]
    },
    {
      "cell_type": "code",
      "metadata": {
        "id": "P8WeGMjicISf",
        "colab_type": "code",
        "colab": {}
      },
      "source": [
        "train_data_dir = '/content/drive/My Drive/WF_Test_Split/train'\n",
        "test_data_dir = '/content/drive/My Drive/WF_Test_Split/test'\n",
        "\n",
        "def load_labels(data_dir):\n",
        "    dsets = {x: datasets.ImageFolder((data_dir))\n",
        "             for x in ['train']}  \n",
        "    return (dsets['train'].classes) \n",
        "  \n",
        "classes = load_labels(train_data_dir)\n",
        "\n",
        "train_transforms = transforms.Compose([\n",
        "    transforms.Resize((128,128)),\n",
        "    transforms.RandomHorizontalFlip(),\n",
        "    transforms.RandomVerticalFlip(),\n",
        "    transforms.ToTensor(),\n",
        "    transforms.Normalize([0.485, 0.456, 0.406], [0.229, 0.224, 0.225])\n",
        "])\n",
        "test_transforms = transforms.Compose([\n",
        "    transforms.Resize((128,128)),\n",
        "    transforms.ToTensor(),\n",
        "    transforms.Normalize([0.485, 0.456, 0.406], [0.229, 0.224, 0.225])\n",
        "])\n",
        "\n",
        "# Pytorch's ImageFolder class allows us to read data in the format it's in\n",
        "train_dataset = datasets.ImageFolder(root=train_data_dir, transform=train_transforms)\n",
        "test_dataset = datasets.ImageFolder(root=test_data_dir, transform=test_transforms)\n",
        "\n",
        "# Use's the datasets we just made to make DataLoaders for the networks input\n",
        "train_loader = torch.utils.data.DataLoader(train_dataset, batch_size=4,\n",
        "                                          shuffle=True, num_workers=2,\n",
        "                                           pin_memory=True, drop_last=True)\n",
        "test_loader = torch.utils.data.DataLoader(test_dataset, batch_size=2,\n",
        "                                         shuffle=True)"
      ],
      "execution_count": 0,
      "outputs": []
    },
    {
      "cell_type": "markdown",
      "metadata": {
        "id": "gTG-5bspKl7T",
        "colab_type": "text"
      },
      "source": [
        "# Load 64x64 Data"
      ]
    },
    {
      "cell_type": "code",
      "metadata": {
        "id": "atYKa9sIKfj3",
        "colab_type": "code",
        "colab": {}
      },
      "source": [
        "train_data_dir = '/content/drive/My Drive/WF_Test_Split/train'\n",
        "test_data_dir = '/content/drive/My Drive/WF_Test_Split/test'\n",
        "\n",
        "def load_labels(data_dir):\n",
        "    dsets = {x: datasets.ImageFolder((data_dir))\n",
        "             for x in ['train']}  \n",
        "    return (dsets['train'].classes) \n",
        "  \n",
        "classes = load_labels(train_data_dir)\n",
        "\n",
        "train_transforms = transforms.Compose([\n",
        "    transforms.Resize((64,64)),\n",
        "    transforms.RandomHorizontalFlip(),\n",
        "    transforms.RandomVerticalFlip(),\n",
        "    transforms.ToTensor(),\n",
        "    transforms.Normalize([0.485, 0.456, 0.406], [0.229, 0.224, 0.225])\n",
        "])\n",
        "test_transforms = transforms.Compose([\n",
        "    transforms.Resize((64,64)),\n",
        "    transforms.ToTensor(),\n",
        "    transforms.Normalize([0.485, 0.456, 0.406], [0.229, 0.224, 0.225])\n",
        "])\n",
        "\n",
        "# Pytorch's ImageFolder class allows us to read data in the format it's in\n",
        "train_dataset = datasets.ImageFolder(root=train_data_dir, transform=train_transforms)\n",
        "test_dataset = datasets.ImageFolder(root=test_data_dir, transform=test_transforms)\n",
        "\n",
        "# Use's the datasets we just made to make DataLoaders for the networks input\n",
        "train_loader = torch.utils.data.DataLoader(train_dataset, batch_size=4,\n",
        "                                          shuffle=True, num_workers=2,\n",
        "                                           pin_memory=True, drop_last=True)\n",
        "test_loader = torch.utils.data.DataLoader(test_dataset, batch_size=2,\n",
        "                                         shuffle=True)"
      ],
      "execution_count": 0,
      "outputs": []
    },
    {
      "cell_type": "markdown",
      "metadata": {
        "id": "zjAz83KvdLA3",
        "colab_type": "text"
      },
      "source": [
        "Display some data"
      ]
    },
    {
      "cell_type": "code",
      "metadata": {
        "id": "8I6dDZLQcIYJ",
        "colab_type": "code",
        "outputId": "eba48d85-162e-4f64-e64f-4d9c65f6ac94",
        "colab": {
          "base_uri": "https://localhost:8080/",
          "height": 153
        }
      },
      "source": [
        "class UnNormalize(object):\n",
        "    def __init__(self, mean, std):\n",
        "        self.mean = mean\n",
        "        self.std = std\n",
        "\n",
        "    def __call__(self, tensor):\n",
        "        for t, m, s in zip(tensor, self.mean, self.std):\n",
        "            t.mul_(s).add_(m)\n",
        "        return tensor\n",
        "\n",
        "def imshow(img):\n",
        "    unorm = UnNormalize(mean=(0.485, 0.456, 0.406), std=(0.229, 0.224, 0.225))\n",
        "    unorm(img)\n",
        "    npimg = img.numpy()\n",
        "    plt.imshow(np.transpose(npimg, (1, 2, 0)))\n",
        "\n",
        "\n",
        "# get some random training images\n",
        "dataiter = iter(train_loader)\n",
        "images, labels = dataiter.next()\n",
        "\n",
        "# show images\n",
        "plt.rcParams[\"axes.grid\"] = False\n",
        "imshow(torchvision.utils.make_grid(images))\n",
        "\n",
        "# print labels\n",
        "print(' '.join('%5s' % classes[labels[j]] for j in range(2)))"
      ],
      "execution_count": 0,
      "outputs": [
        {
          "output_type": "stream",
          "text": [
            "Cephalopholis_miniata Echeneis_naucrates\n"
          ],
          "name": "stdout"
        },
        {
          "output_type": "display_data",
          "data": {
            "image/png": "[encoded data removed]",
            "text/plain": [
              "<Figure size 432x288 with 1 Axes>"
            ]
          },
          "metadata": {
            "tags": []
          }
        }
      ]
    },
    {
      "cell_type": "markdown",
      "metadata": {
        "id": "hzoKagrBKFhN",
        "colab_type": "text"
      },
      "source": [
        "# 128x128 Models"
      ]
    },
    {
      "cell_type": "code",
      "metadata": {
        "id": "DvsyNtcZQSn8",
        "colab_type": "code",
        "colab": {}
      },
      "source": [
        "# Five conv 128\n",
        "class Net(nn.Module):\n",
        "  def __init__(self):\n",
        "    super(Net, self).__init__()\n",
        "    self.layer1 = nn.Sequential(\n",
        "        nn.Conv2d(3, 64, kernel_size=(6, 6), stride=(1, 1), padding=(1, 1)),\n",
        "        nn.BatchNorm2d(64),\n",
        "        nn.ReLU(),\n",
        "        nn.Conv2d(64, 64, kernel_size=(3, 3), stride=(1, 1), padding=(1, 1)),\\\n",
        "        nn.BatchNorm2d(64),\n",
        "        nn.ReLU(),\n",
        "        nn.MaxPool2d(kernel_size=4, stride=2),\n",
        "        nn.Conv2d(64, 128, kernel_size=(3,3), stride=(1,1), padding=(1,1)),\n",
        "        nn.BatchNorm2d(128),\n",
        "        nn.ReLU(),\n",
        "        nn.Conv2d(128, 128, kernel_size=(6,6), stride=(1,1), padding=(1,1)),\n",
        "        nn.BatchNorm2d(128),\n",
        "        nn.ReLU(),\n",
        "        nn.MaxPool2d(kernel_size=4, stride=2),\n",
        "        nn.Conv2d(128, 256, kernel_size=(3,3), stride=(1,1), padding=(1,1)),\n",
        "        nn.BatchNorm2d(256),\n",
        "        nn.ReLU(),\n",
        "        nn.MaxPool2d(kernel_size=4, stride=2))\n",
        "    self.layer2 = nn.Sequential(\n",
        "\n",
        "        nn.Linear(in_features=43264, out_features=4096),\n",
        "        nn.ReLU(),\n",
        "        nn.Linear(in_features=4096, out_features=4))\n",
        "                  \n",
        "                  \n",
        "  def forward(self, x):\n",
        "    x = self.layer1(x)\n",
        "    x = x.reshape(x.size(0), -1)\n",
        "    #print(x.size())\n",
        "    x = self.layer2(x)\n",
        "    \n",
        "    return x\n",
        "    \n",
        "net = Net().cuda()\n",
        "net.train()\n",
        "device = torch.device(\"cuda:0\")"
      ],
      "execution_count": 0,
      "outputs": []
    },
    {
      "cell_type": "code",
      "metadata": {
        "id": "SLLqgSNZOEif",
        "colab_type": "code",
        "colab": {}
      },
      "source": [
        "# 4 Conv 128\n",
        "class Net(nn.Module):\n",
        "  def __init__(self):\n",
        "    super(Net, self).__init__()\n",
        "    self.layer1 = nn.Sequential(\n",
        "        nn.Conv2d(3, 64, kernel_size=(6, 6), stride=(1, 1), padding=(1, 1)),\n",
        "        nn.BatchNorm2d(64),\n",
        "        nn.ReLU(),\n",
        "        nn.MaxPool2d(kernel_size=4, stride=2),\n",
        "        nn.Conv2d(64, 64, kernel_size=(3, 3), stride=(1, 1), padding=(1, 1)),\\\n",
        "        nn.BatchNorm2d(64),\n",
        "        nn.ReLU(),\n",
        "        nn.MaxPool2d(kernel_size=4, stride=2),\n",
        "        nn.Conv2d(64, 128, kernel_size=(3,3), stride=(1,1), padding=(1,1)),\n",
        "        nn.BatchNorm2d(128),\n",
        "        nn.ReLU(),\n",
        "        nn.MaxPool2d(kernel_size=4, stride=2),\n",
        "        nn.Conv2d(128, 128, kernel_size=(6,6), stride=(1,1), padding=(1,1)),\n",
        "        nn.ReLU())\n",
        "    self.layer2 = nn.Sequential(\n",
        "        nn.Linear(in_features=12800, out_features=4096),\n",
        "        nn.ReLU(),\n",
        "        nn.Linear(in_features=4096, out_features=4))\n",
        "                  \n",
        "                  \n",
        "  def forward(self, x):\n",
        "    x = self.layer1(x)\n",
        "    x = x.reshape(x.size(0), -1)\n",
        "    #print(x.size())\n",
        "    x = self.layer2(x)\n",
        "    \n",
        "    return x\n",
        "    \n",
        "net = Net().cuda()\n",
        "net.train()\n",
        "device = torch.device(\"cuda:0\")"
      ],
      "execution_count": 0,
      "outputs": []
    },
    {
      "cell_type": "code",
      "metadata": {
        "id": "txaseu6WOFDt",
        "colab_type": "code",
        "colab": {}
      },
      "source": [
        "# 3 Conv 128\n",
        "class Net(nn.Module):\n",
        "  def __init__(self):\n",
        "    super(Net, self).__init__()\n",
        "    self.layer1 = nn.Sequential(\n",
        "        nn.Conv2d(3, 64, kernel_size=(5, 5), stride=(1, 1), padding=(1, 1)),\n",
        "        nn.BatchNorm2d(64),\n",
        "        nn.ReLU(),\n",
        "        nn.MaxPool2d(kernel_size=6, stride=2),\n",
        "        nn.Conv2d(64, 64, kernel_size=(5, 5), stride=(1, 1), padding=(1, 1)),\\\n",
        "        nn.BatchNorm2d(64),\n",
        "        nn.ReLU(),\n",
        "        nn.MaxPool2d(kernel_size=6, stride=2),\n",
        "        nn.Conv2d(64, 128, kernel_size=(5,5), stride=(1,1), padding=(1,1)),\n",
        "        nn.ReLU())\n",
        "        \n",
        "    self.layer2 = nn.Sequential(\n",
        "        nn.Linear(in_features=80000, out_features=4096),\n",
        "        nn.ReLU(),\n",
        "        nn.Linear(in_features=4096, out_features=4))\n",
        "                  \n",
        "                  \n",
        "  def forward(self, x):\n",
        "    x = self.layer1(x)\n",
        "    x = x.reshape(x.size(0), -1)\n",
        "    #print(x.size())\n",
        "    x = self.layer2(x)\n",
        "    \n",
        "    return x\n",
        "    \n",
        "net = Net().cuda()\n",
        "net.train()\n",
        "device = torch.device(\"cuda:0\")"
      ],
      "execution_count": 0,
      "outputs": []
    },
    {
      "cell_type": "markdown",
      "metadata": {
        "id": "PVy2kwKeKQSA",
        "colab_type": "text"
      },
      "source": [
        "# 64x64 Models"
      ]
    },
    {
      "cell_type": "code",
      "metadata": {
        "id": "h3FZPyhRLPWS",
        "colab_type": "code",
        "colab": {}
      },
      "source": [
        "# 5 Conv 64\n",
        "class Net(nn.Module):\n",
        "  def __init__(self):\n",
        "    super(Net, self).__init__()\n",
        "    self.layer1 = nn.Sequential(\n",
        "        nn.Conv2d(3, 64, kernel_size=(6, 6), stride=(1, 1), padding=(1, 1)),\n",
        "        nn.BatchNorm2d(64),\n",
        "        nn.ReLU(),\n",
        "        nn.Conv2d(64, 64, kernel_size=(3, 3), stride=(1, 1), padding=(1, 1)),\\\n",
        "        nn.BatchNorm2d(64),\n",
        "        nn.ReLU(),\n",
        "        nn.MaxPool2d(kernel_size=4, stride=2),\n",
        "        nn.Conv2d(64, 128, kernel_size=(3,3), stride=(1,1), padding=(1,1)),\n",
        "        nn.BatchNorm2d(128),\n",
        "        nn.ReLU(),\n",
        "        nn.Conv2d(128, 128, kernel_size=(6,6), stride=(1,1), padding=(1,1)),\n",
        "        nn.BatchNorm2d(128),\n",
        "        nn.ReLU(),\n",
        "        nn.MaxPool2d(kernel_size=4, stride=2),\n",
        "        nn.Conv2d(128, 256, kernel_size=(3,3), stride=(1,1), padding=(1,1)),\n",
        "        nn.BatchNorm2d(256),\n",
        "        nn.ReLU(),\n",
        "        nn.MaxPool2d(kernel_size=4, stride=2))\n",
        "    self.layer2 = nn.Sequential(\n",
        "\n",
        "        nn.Linear(in_features=6400, out_features=4096),\n",
        "        nn.ReLU(),\n",
        "        nn.Linear(in_features=4096, out_features=4))\n",
        "                  \n",
        "                  \n",
        "  def forward(self, x):\n",
        "    x = self.layer1(x)\n",
        "    x = x.reshape(x.size(0), -1)\n",
        "    #print(x.size())\n",
        "    x = self.layer2(x)\n",
        "    \n",
        "    return x\n",
        "    \n",
        "net = Net().cuda()\n",
        "net.train()\n",
        "device = torch.device(\"cuda:0\")"
      ],
      "execution_count": 0,
      "outputs": []
    },
    {
      "cell_type": "code",
      "metadata": {
        "id": "YP27Y1oxLd22",
        "colab_type": "code",
        "colab": {}
      },
      "source": [
        "# 4 Conv 64\n",
        "class Net(nn.Module):\n",
        "  def __init__(self):\n",
        "    super(Net, self).__init__()\n",
        "    self.layer1 = nn.Sequential(\n",
        "        nn.Conv2d(3, 64, kernel_size=(3, 3), stride=(1, 1), padding=(1, 1)),\n",
        "        nn.BatchNorm2d(64),\n",
        "        nn.ReLU(),\n",
        "        nn.MaxPool2d(kernel_size=2, stride=2),\n",
        "        nn.Conv2d(64, 64, kernel_size=(3, 3), stride=(1, 1), padding=(1, 1)),\\\n",
        "        nn.BatchNorm2d(64),\n",
        "        nn.ReLU(),\n",
        "        nn.MaxPool2d(kernel_size=2, stride=2),\n",
        "        nn.Conv2d(64, 128, kernel_size=(3,3), stride=(1,1), padding=(1,1)),\n",
        "        nn.BatchNorm2d(128),\n",
        "        nn.ReLU(),\n",
        "        nn.MaxPool2d(kernel_size=2, stride=2),\n",
        "        nn.Conv2d(128, 128, kernel_size=(3,3), stride=(1,1), padding=(1,1)),\n",
        "        nn.ReLU())\n",
        "    self.layer2 = nn.Sequential(\n",
        "        nn.Linear(in_features=8192, out_features=4096),\n",
        "        nn.ReLU(),\n",
        "        nn.Linear(in_features=4096, out_features=4))\n",
        "                      \n",
        "  def forward(self, x):\n",
        "    x = self.layer1(x)\n",
        "    x = x.reshape(x.size(0), -1)\n",
        "    #print(x.size())\n",
        "    x = self.layer2(x)\n",
        "    return x\n",
        "    \n",
        "net = Net().cuda()\n",
        "net.train()\n",
        "device = torch.device(\"cuda:0\")"
      ],
      "execution_count": 0,
      "outputs": []
    },
    {
      "cell_type": "code",
      "metadata": {
        "id": "Dj6QXtqwMAyA",
        "colab_type": "code",
        "colab": {}
      },
      "source": [
        "# 3 Conv 64\n",
        "class Net(nn.Module):\n",
        "  def __init__(self):\n",
        "    super(Net, self).__init__()\n",
        "    self.layer1 = nn.Sequential(\n",
        "        nn.Conv2d(3, 64, kernel_size=(5, 5), stride=(1, 1), padding=(1, 1)),\n",
        "        nn.BatchNorm2d(64),\n",
        "        nn.ReLU(),\n",
        "        nn.MaxPool2d(kernel_size=6, stride=2),\n",
        "        nn.Conv2d(64, 64, kernel_size=(5, 5), stride=(1, 1), padding=(1, 1)),\\\n",
        "        nn.BatchNorm2d(64),\n",
        "        nn.ReLU(),\n",
        "        nn.MaxPool2d(kernel_size=6, stride=2),\n",
        "        nn.Conv2d(64, 128, kernel_size=(5,5), stride=(1,1), padding=(1,1)),\n",
        "        nn.ReLU())\n",
        "        \n",
        "    self.layer2 = nn.Sequential(\n",
        "        nn.Linear(in_features=10368, out_features=4096),\n",
        "        nn.ReLU(),\n",
        "        nn.Linear(in_features=4096, out_features=4))\n",
        "                  \n",
        "                  \n",
        "  def forward(self, x):\n",
        "    x = self.layer1(x)\n",
        "    x = x.reshape(x.size(0), -1)\n",
        "    #print(x.size())\n",
        "    x = self.layer2(x)\n",
        "    \n",
        "    return x\n",
        "    \n",
        "net = Net().cuda()\n",
        "net.train()\n",
        "device = torch.device(\"cuda:0\")"
      ],
      "execution_count": 0,
      "outputs": []
    },
    {
      "cell_type": "code",
      "metadata": {
        "id": "E7OvbsR-oOGV",
        "colab_type": "code",
        "outputId": "050d306e-4000-4aad-d495-a5f1e4e7decb",
        "colab": {
          "base_uri": "https://localhost:8080/",
          "height": 403
        }
      },
      "source": [
        "net.train()"
      ],
      "execution_count": 0,
      "outputs": [
        {
          "output_type": "execute_result",
          "data": {
            "text/plain": [
              "Net(\n",
              "  (layer1): Sequential(\n",
              "    (0): Conv2d(3, 64, kernel_size=(6, 6), stride=(1, 1), padding=(1, 1))\n",
              "    (1): BatchNorm2d(64, eps=1e-05, momentum=0.1, affine=True, track_running_stats=True)\n",
              "    (2): ReLU()\n",
              "    (3): MaxPool2d(kernel_size=4, stride=2, padding=0, dilation=1, ceil_mode=False)\n",
              "    (4): Conv2d(64, 64, kernel_size=(3, 3), stride=(1, 1), padding=(1, 1))\n",
              "    (5): BatchNorm2d(64, eps=1e-05, momentum=0.1, affine=True, track_running_stats=True)\n",
              "    (6): ReLU()\n",
              "    (7): MaxPool2d(kernel_size=4, stride=2, padding=0, dilation=1, ceil_mode=False)\n",
              "    (8): Conv2d(64, 128, kernel_size=(3, 3), stride=(1, 1), padding=(1, 1))\n",
              "    (9): BatchNorm2d(128, eps=1e-05, momentum=0.1, affine=True, track_running_stats=True)\n",
              "    (10): ReLU()\n",
              "    (11): MaxPool2d(kernel_size=4, stride=2, padding=0, dilation=1, ceil_mode=False)\n",
              "    (12): Conv2d(128, 128, kernel_size=(6, 6), stride=(1, 1), padding=(1, 1))\n",
              "    (13): ReLU()\n",
              "  )\n",
              "  (layer2): Sequential(\n",
              "    (0): Linear(in_features=12800, out_features=4096, bias=True)\n",
              "    (1): ReLU()\n",
              "    (2): Linear(in_features=4096, out_features=4, bias=True)\n",
              "  )\n",
              ")"
            ]
          },
          "metadata": {
            "tags": []
          },
          "execution_count": 46
        }
      ]
    },
    {
      "cell_type": "code",
      "metadata": {
        "id": "L5QFLE69cIkR",
        "colab_type": "code",
        "outputId": "70cab7bf-a957-4699-e465-3c35f65919b3",
        "colab": {
          "base_uri": "https://localhost:8080/",
          "height": 50
        }
      },
      "source": [
        "import torch.optim as optim\n",
        "criterion = nn.CrossEntropyLoss()\n",
        "optimizer = optim.SGD(net.parameters(), lr=0.0001, momentum=0.9)\n",
        "loss_list = []\n",
        "start_time = time.time()\n",
        "for epoch in range(10): # loop over the dataset multiple times\n",
        "\n",
        "    running_loss = 0.0\n",
        "    running_loss2 = 0.0\n",
        "    for i, data in enumerate(train_loader, 0):\n",
        "        # get the inputs\n",
        "        inputs, labels = data\n",
        "        inputs = inputs.to(device)\n",
        "        labels = labels.to(device)\n",
        "        # zero the parameter gradients\n",
        "        optimizer.zero_grad()\n",
        "\n",
        "        # forward + backward + optimize\n",
        "        outputs = net(inputs)\n",
        "        loss = criterion(outputs, labels)\n",
        "        loss.backward()\n",
        "        optimizer.step()\n",
        "\n",
        "print('Finished Training')\n",
        "print('Time:', time.time() - start_time)"
      ],
      "execution_count": 0,
      "outputs": [
        {
          "output_type": "stream",
          "text": [
            "Finished Training\n",
            "Time: 37.95341157913208\n"
          ],
          "name": "stdout"
        }
      ]
    },
    {
      "cell_type": "code",
      "metadata": {
        "id": "msZso8o_eAve",
        "colab_type": "code",
        "outputId": "7baffbd5-3339-4a77-d840-b4004f38a7ad",
        "colab": {
          "base_uri": "https://localhost:8080/",
          "height": 403
        }
      },
      "source": [
        "net.eval()"
      ],
      "execution_count": 0,
      "outputs": [
        {
          "output_type": "execute_result",
          "data": {
            "text/plain": [
              "Net(\n",
              "  (layer1): Sequential(\n",
              "    (0): Conv2d(3, 64, kernel_size=(6, 6), stride=(1, 1), padding=(1, 1))\n",
              "    (1): BatchNorm2d(64, eps=1e-05, momentum=0.1, affine=True, track_running_stats=True)\n",
              "    (2): ReLU()\n",
              "    (3): MaxPool2d(kernel_size=4, stride=2, padding=0, dilation=1, ceil_mode=False)\n",
              "    (4): Conv2d(64, 64, kernel_size=(3, 3), stride=(1, 1), padding=(1, 1))\n",
              "    (5): BatchNorm2d(64, eps=1e-05, momentum=0.1, affine=True, track_running_stats=True)\n",
              "    (6): ReLU()\n",
              "    (7): MaxPool2d(kernel_size=4, stride=2, padding=0, dilation=1, ceil_mode=False)\n",
              "    (8): Conv2d(64, 128, kernel_size=(3, 3), stride=(1, 1), padding=(1, 1))\n",
              "    (9): BatchNorm2d(128, eps=1e-05, momentum=0.1, affine=True, track_running_stats=True)\n",
              "    (10): ReLU()\n",
              "    (11): MaxPool2d(kernel_size=4, stride=2, padding=0, dilation=1, ceil_mode=False)\n",
              "    (12): Conv2d(128, 128, kernel_size=(6, 6), stride=(1, 1), padding=(1, 1))\n",
              "    (13): ReLU()\n",
              "  )\n",
              "  (layer2): Sequential(\n",
              "    (0): Linear(in_features=12800, out_features=4096, bias=True)\n",
              "    (1): ReLU()\n",
              "    (2): Linear(in_features=4096, out_features=4, bias=True)\n",
              "  )\n",
              ")"
            ]
          },
          "metadata": {
            "tags": []
          },
          "execution_count": 48
        }
      ]
    },
    {
      "cell_type": "markdown",
      "metadata": {
        "id": "ETqcw5zedboE",
        "colab_type": "text"
      },
      "source": [
        "For testing the model on test data."
      ]
    },
    {
      "cell_type": "code",
      "metadata": {
        "id": "6UQdKwvni2uN",
        "colab_type": "code",
        "outputId": "5cd89cba-0066-4828-eff5-3019b615c3e4",
        "colab": {
          "base_uri": "https://localhost:8080/",
          "height": 370
        }
      },
      "source": [
        "totalCorrect = 0\n",
        "total = 0\n",
        "class_pred = []\n",
        "total_groundtruth = []\n",
        "\n",
        "net.to(device)\n",
        "class_correct = list(0. for i in range(4))\n",
        "class_total = list(0. for i in range(4))\n",
        "with torch.no_grad():\n",
        "    for data in test_loader:\n",
        "        images, labels = data\n",
        "        images = images.to(device)\n",
        "        labels = labels.to(device)\n",
        "        outputs = net(images)\n",
        "        _, predicted = torch.max(outputs, 1)\n",
        "        c = (predicted == labels).squeeze()\n",
        "        actualPred = outputs\n",
        "        for i in range(2):\n",
        "          tensorList = actualPred[i].cpu()\n",
        "          tensorList = tensorList.numpy()\n",
        "          labelsList = labels[i].cpu()\n",
        "          labelsList = labelsList.numpy()\n",
        "          label = labels[i]\n",
        "          class_correct[label] += c[i].item()\n",
        "          class_total[label] += 1\n",
        "          total_groundtruth.append(labelsList.max())\n",
        "          class_pred.append(tensorList.argmax())\n",
        "\n",
        "for i in range(4):\n",
        "    totalCorrect += class_correct[i]\n",
        "    print('Accuracy of %5s : %2d %%' % (\n",
        "        classes[i], 100 * class_correct[i] / class_total[i]))\n",
        "    total += class_total[i]\n",
        "    print(class_correct[i],class_total[i])\n",
        "    overall_accuracy = 100*totalCorrect/total\n",
        "print(\"\\nTesting Accuracy = {0:.2f}\".format(overall_accuracy))\n",
        "print(classification_report(total_groundtruth,class_pred,target_names = classes))\n",
        "    "
      ],
      "execution_count": 0,
      "outputs": [
        {
          "output_type": "stream",
          "text": [
            "Accuracy of Cephalopholis_miniata : 86 %\n",
            "20.0 23.0\n",
            "Accuracy of Dascyllus_aruanus : 93 %\n",
            "15.0 16.0\n",
            "Accuracy of Echeneis_naucrates : 100 %\n",
            "18.0 18.0\n",
            "Accuracy of Genicanthus_melanospilos : 92 %\n",
            "12.0 13.0\n",
            "\n",
            "Testing Accuracy = 92.86\n",
            "                          precision    recall  f1-score   support\n",
            "\n",
            "   Cephalopholis_miniata       1.00      0.87      0.93        23\n",
            "       Dascyllus_aruanus       0.94      0.94      0.94        16\n",
            "      Echeneis_naucrates       0.86      1.00      0.92        18\n",
            "Genicanthus_melanospilos       0.92      0.92      0.92        13\n",
            "\n",
            "                accuracy                           0.93        70\n",
            "               macro avg       0.93      0.93      0.93        70\n",
            "            weighted avg       0.93      0.93      0.93        70\n",
            "\n"
          ],
          "name": "stdout"
        }
      ]
    },
    {
      "cell_type": "markdown",
      "metadata": {
        "id": "VsMpjJy5dlZU",
        "colab_type": "text"
      },
      "source": [
        "For testing the models on training data."
      ]
    },
    {
      "cell_type": "code",
      "metadata": {
        "id": "USiLGGwZ2m85",
        "colab_type": "code",
        "outputId": "931a216e-07c0-46e9-b1e3-412250ee6651",
        "colab": {
          "base_uri": "https://localhost:8080/",
          "height": 185
        }
      },
      "source": [
        "totalCorrect = 0\n",
        "total = 0\n",
        "class_pred = []\n",
        "total_groundtruth = []\n",
        "\n",
        "net.to(device)\n",
        "class_correct = list(0. for i in range(4))\n",
        "class_total = list(0. for i in range(4))\n",
        "with torch.no_grad():\n",
        "    for data in train_loader:\n",
        "        images, labels = data\n",
        "        images = images.to(device)\n",
        "        labels = labels.to(device)\n",
        "        outputs = net(images)\n",
        "        _, predicted = torch.max(outputs, 1)\n",
        "        c = (predicted == labels).squeeze()\n",
        "        actualPred = outputs\n",
        "        #print('c',c)\n",
        "        #print('actualpred', actualPred)\n",
        "        #print('labels',labels)\n",
        "        for i in range(4):\n",
        "          tensorList = actualPred[i].cpu()\n",
        "          tensorList = tensorList.numpy()\n",
        "          labelsList = labels[i].cpu()\n",
        "          labelsList = labelsList.numpy()\n",
        "          #print(tensorList)\n",
        "          #print(labels)\n",
        "          label = labels[i]\n",
        "          class_correct[label] += c[i].item()\n",
        "          class_total[label] += 1\n",
        "          total_groundtruth.append(labelsList.max())\n",
        "          class_pred.append(tensorList.argmax())\n",
        "\n",
        "for i in range(4):\n",
        "    totalCorrect += class_correct[i]\n",
        "    print('Accuracy of %5s : %2d %%' % (\n",
        "        classes[i], 100 * class_correct[i] / class_total[i]))\n",
        "    total += class_total[i]\n",
        "    print(class_correct[i],class_total[i])\n",
        "    \n",
        "print(\"\\nTraining Accuracy = \",100*totalCorrect/total)\n",
        "\n",
        "    "
      ],
      "execution_count": 0,
      "outputs": [
        {
          "output_type": "stream",
          "text": [
            "Accuracy of Cephalopholis_miniata : 87 %\n",
            "79.0 90.0\n",
            "Accuracy of Dascyllus_aruanus : 96 %\n",
            "58.0 60.0\n",
            "Accuracy of Echeneis_naucrates : 98 %\n",
            "68.0 69.0\n",
            "Accuracy of Genicanthus_melanospilos : 81 %\n",
            "40.0 49.0\n",
            "\n",
            "Training Accuracy =  91.41791044776119\n"
          ],
          "name": "stdout"
        }
      ]
    },
    {
      "cell_type": "markdown",
      "metadata": {
        "id": "1ASNptiidzlo",
        "colab_type": "text"
      },
      "source": [
        "Plotting loss curves."
      ]
    },
    {
      "cell_type": "code",
      "metadata": {
        "id": "X9SQ4enNV3PX",
        "colab_type": "code",
        "outputId": "6a7b74a1-929e-4e23-bec5-438897039eb5",
        "colab": {
          "base_uri": "https://localhost:8080/",
          "height": 295
        }
      },
      "source": [
        "epochs = [1,2,3,4,5,6,7,8,9,10]\n",
        "conv5 = [1.1078058255206253, 0.5269269118964893, 0.44017709719647263, \n",
        "          0.42193668615419183, 0.3737562518137538, 0.345443583332473,\n",
        "          0.2551171591290754, 0.22414258443733132, 0.18730146822876204, \n",
        "          0.24210307301198683]\n",
        "conv4 = [1.2408288127870808, 0.8873102150885146, 0.6430860336828409, \n",
        "          0.5552084889110579, 0.5013907341265768, 0.36055510615770703, \n",
        "          0.3488018111668555, 0.3016405916568515, 0.29045571381274654, \n",
        "          0.2659852646540532]\n",
        "conv3 = [1.0884952749018333, 0.6255141385869023, 0.5765160237989461, \n",
        "         0.45384467490100505, 0.36873068197952324, 0.3688658759496469, \n",
        "         0.2967768389053061, 0.24683946570499235, 0.3273977958579932, \n",
        "         0.2419028782933175]\n",
        "\n",
        "#fig = plt.figure()\n",
        "ax = plt.subplot(111)\n",
        "ax.plot(conv5, label='Conv 5')\n",
        "ax.plot(conv4, label='Conv 4')\n",
        "ax.plot(conv3, label='Conv 3')\n",
        "ax.set_ylabel('Loss')\n",
        "ax.set_xlabel('Epochs')\n",
        "plt.title('SGD Loss')\n",
        "ax.legend()\n",
        "plt.show()\n"
      ],
      "execution_count": 0,
      "outputs": [
        {
          "output_type": "display_data",
          "data": {
            "image/png": "[encoded data removed]",
            "text/plain": [
              "<Figure size 432x288 with 1 Axes>"
            ]
          },
          "metadata": {
            "tags": []
          }
        }
      ]
    }
  ]
}